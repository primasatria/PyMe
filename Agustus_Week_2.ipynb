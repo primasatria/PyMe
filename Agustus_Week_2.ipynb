{
  "nbformat": 4,
  "nbformat_minor": 0,
  "metadata": {
    "colab": {
      "provenance": []
    },
    "kernelspec": {
      "name": "python3",
      "display_name": "Python 3"
    },
    "language_info": {
      "name": "python"
    }
  },
  "cells": [
    {
      "cell_type": "markdown",
      "source": [
        "---\n",
        "**Mini exercise**\n",
        "* Mari kita coba merekap semua objek yang telah kita buat sebelumnya.\n",
        "* Tambahkan juga method dalam **Child class Guru** untuk memberikan output\n",
        "\n",
        "`Selamat jalan kepada guru No. (ID)(nama) sebagai pensiunan tahun, (tahun_pensiun)`\n",
        "* Objek yang telah dibuat\n",
        "\n",
        "```\n",
        "guru1 = (200175, \"Arif\",2023)\n",
        "\n",
        "guru2 = (200176, \"Sri\", 2040)\n",
        "\n",
        "```\n",
        "* Contoh Output yang diharapkan\n",
        "```\n",
        "Selamat jalan kepada guru No. 200175 Arif, sebagai pensiunan 2023\n",
        "```\n",
        "dijalankan dengan semua objek yang telah dibuat\n",
        "\n",
        "Tulis ulang **Parent class Manusia** bila diperlukan"
      ],
      "metadata": {
        "id": "iSUSYWeRBVEM"
      }
    },
    {
      "cell_type": "markdown",
      "source": [
        "# Error Debuging\n",
        "---"
      ],
      "metadata": {
        "id": "tqI7JPJBCL_A"
      }
    },
    {
      "cell_type": "markdown",
      "source": [
        "Merupakan kesalahan dalam penulisan tata bahasa dalam pemrograman python. Sering kali programmer pemula mengalami masalah ini dikarenakan kesalahan cara penulisan Python.\n",
        "\n",
        "| Nama Error | Artinya |\n",
        "-------------|----------\n",
        "|SyntaxError            | kesalahan dalam tata bahasa pemrograman  |\n",
        "|IndentationError            | menggunakan indentasi secara tidak semestinya |"
      ],
      "metadata": {
        "id": "wIKPi8MbCPEZ"
      }
    },
    {
      "cell_type": "code",
      "execution_count": null,
      "metadata": {
        "id": "x0ynelM4BQZG"
      },
      "outputs": [],
      "source": []
    },
    {
      "cell_type": "markdown",
      "source": [
        "Jika program bebas dari syntax eror maka program dapat di eksekusi dengan intpereter. Ketika program terhenti secara tidak tidak terduga selama eksekusi berarti kita menemukan error baru yaitu Exception Error. Exception Error adalah kesalahan yang hanya muncul setelah eksekusi baris kode tertentu. berikut tabel exception error secara umum\n",
        "\n",
        "| Nama Error | Artinya |\n",
        "-------------|----------\n",
        "|AttributeError            |   Objek tidak mengandung variabel atau metode contoh yang ditentukan      |\n",
        "|ImportError            | Statement import gagal menemukan modul atau nama tidak sesuai          |\n",
        "|IndexError            | Urutan(list, string, tuple) indeks di luar jangkauan        |\n",
        "|KeyError            | Key tidak ditentukan pada data dictionary  |\n",
        "|NameError            |Nama variabel lokal atau global yang ditentukan tidak ada                |\n",
        "|TypeError            | Operator atau fungsi yang diterapkan tidak tepat        |\n",
        "|ValueError            |Operasi atau fungsi diterapkan benar namun nilai tidak sesuai         |\n",
        "|ZeroDivisionError            |   Operand kedua dalam operasi pembagian atau modulus adalah nol      |\n",
        "\n",
        "Untuk mengetahui hierarki Exception lebih lengkap silahkan mengecek di dokumentasi python di link ini https://docs.python.org/3/library/exceptions.html#exception-hierarchy\n",
        "\n",
        "\n",
        "\n",
        "Bagaimana Penanganan Exception ini? cara penanganannya yaitu kita dapat menggunakan konsep try,except,raise yang akan dibahas setelah sub bab ini"
      ],
      "metadata": {
        "id": "yKRkcrpPCqKd"
      }
    },
    {
      "cell_type": "code",
      "source": [
        "class GitHubApiException(Exception):\n",
        "    def __init__(self, Nominal):\n",
        "        if status_code <= 403:\n",
        "            message = \"Rate limit reached. Please wait a minute and try again.\"\n",
        "        else:\n",
        "            message = f\"HTTP Status Code was: {status_code}.\"\n",
        "\n",
        "        super().__init__(message)"
      ],
      "metadata": {
        "id": "w1xzqLYIp7R1"
      },
      "execution_count": 1,
      "outputs": []
    },
    {
      "cell_type": "code",
      "source": [
        "status_code =403\n",
        "\n",
        "raise GitHubApiException(status_code)"
      ],
      "metadata": {
        "colab": {
          "base_uri": "https://localhost:8080/",
          "height": 180
        },
        "id": "weWj1nYRp320",
        "outputId": "25b0ce9c-fb56-43d6-b014-5c3c7d45dd7c"
      },
      "execution_count": 2,
      "outputs": [
        {
          "output_type": "error",
          "ename": "GitHubApiException",
          "evalue": "Rate limit reached. Please wait a minute and try again.",
          "traceback": [
            "\u001b[0;31m---------------------------------------------------------------------------\u001b[0m",
            "\u001b[0;31mGitHubApiException\u001b[0m                        Traceback (most recent call last)",
            "\u001b[0;32m<ipython-input-2-46b17ff4b314>\u001b[0m in \u001b[0;36m<cell line: 3>\u001b[0;34m()\u001b[0m\n\u001b[1;32m      1\u001b[0m \u001b[0mstatus_code\u001b[0m \u001b[0;34m=\u001b[0m\u001b[0;36m403\u001b[0m\u001b[0;34m\u001b[0m\u001b[0;34m\u001b[0m\u001b[0m\n\u001b[1;32m      2\u001b[0m \u001b[0;34m\u001b[0m\u001b[0m\n\u001b[0;32m----> 3\u001b[0;31m \u001b[0;32mraise\u001b[0m \u001b[0mGitHubApiException\u001b[0m\u001b[0;34m(\u001b[0m\u001b[0mstatus_code\u001b[0m\u001b[0;34m)\u001b[0m\u001b[0;34m\u001b[0m\u001b[0;34m\u001b[0m\u001b[0m\n\u001b[0m",
            "\u001b[0;31mGitHubApiException\u001b[0m: Rate limit reached. Please wait a minute and try again."
          ]
        }
      ]
    },
    {
      "cell_type": "code",
      "source": [
        "status_code =400\n",
        "\n",
        "raise GitHubApiException(status_code)"
      ],
      "metadata": {
        "colab": {
          "base_uri": "https://localhost:8080/",
          "height": 180
        },
        "id": "aL08oSu2p99m",
        "outputId": "8a916b83-bfbb-476f-ea6e-e76a8221d8ea"
      },
      "execution_count": 3,
      "outputs": [
        {
          "output_type": "error",
          "ename": "GitHubApiException",
          "evalue": "Rate limit reached. Please wait a minute and try again.",
          "traceback": [
            "\u001b[0;31m---------------------------------------------------------------------------\u001b[0m",
            "\u001b[0;31mGitHubApiException\u001b[0m                        Traceback (most recent call last)",
            "\u001b[0;32m<ipython-input-3-6837a8ab3465>\u001b[0m in \u001b[0;36m<cell line: 3>\u001b[0;34m()\u001b[0m\n\u001b[1;32m      1\u001b[0m \u001b[0mstatus_code\u001b[0m \u001b[0;34m=\u001b[0m\u001b[0;36m400\u001b[0m\u001b[0;34m\u001b[0m\u001b[0;34m\u001b[0m\u001b[0m\n\u001b[1;32m      2\u001b[0m \u001b[0;34m\u001b[0m\u001b[0m\n\u001b[0;32m----> 3\u001b[0;31m \u001b[0;32mraise\u001b[0m \u001b[0mGitHubApiException\u001b[0m\u001b[0;34m(\u001b[0m\u001b[0mstatus_code\u001b[0m\u001b[0;34m)\u001b[0m\u001b[0;34m\u001b[0m\u001b[0;34m\u001b[0m\u001b[0m\n\u001b[0m",
            "\u001b[0;31mGitHubApiException\u001b[0m: Rate limit reached. Please wait a minute and try again."
          ]
        }
      ]
    },
    {
      "cell_type": "code",
      "source": [
        "status_code =404\n",
        "\n",
        "raise GitHubApiException(status_code)"
      ],
      "metadata": {
        "colab": {
          "base_uri": "https://localhost:8080/",
          "height": 180
        },
        "id": "CKOx0m7Vqq0s",
        "outputId": "2e9908d0-478c-48be-962e-8440e520d2d8"
      },
      "execution_count": 4,
      "outputs": [
        {
          "output_type": "error",
          "ename": "GitHubApiException",
          "evalue": "HTTP Status Code was: 404.",
          "traceback": [
            "\u001b[0;31m---------------------------------------------------------------------------\u001b[0m",
            "\u001b[0;31mGitHubApiException\u001b[0m                        Traceback (most recent call last)",
            "\u001b[0;32m<ipython-input-4-9c81a4075eef>\u001b[0m in \u001b[0;36m<cell line: 3>\u001b[0;34m()\u001b[0m\n\u001b[1;32m      1\u001b[0m \u001b[0mstatus_code\u001b[0m \u001b[0;34m=\u001b[0m\u001b[0;36m404\u001b[0m\u001b[0;34m\u001b[0m\u001b[0;34m\u001b[0m\u001b[0m\n\u001b[1;32m      2\u001b[0m \u001b[0;34m\u001b[0m\u001b[0m\n\u001b[0;32m----> 3\u001b[0;31m \u001b[0;32mraise\u001b[0m \u001b[0mGitHubApiException\u001b[0m\u001b[0;34m(\u001b[0m\u001b[0mstatus_code\u001b[0m\u001b[0;34m)\u001b[0m\u001b[0;34m\u001b[0m\u001b[0;34m\u001b[0m\u001b[0m\n\u001b[0m",
            "\u001b[0;31mGitHubApiException\u001b[0m: HTTP Status Code was: 404."
          ]
        }
      ]
    },
    {
      "cell_type": "markdown",
      "source": [
        "---\n",
        "**Exercise**"
      ],
      "metadata": {
        "id": "sqDEqPxEqyyn"
      }
    },
    {
      "cell_type": "markdown",
      "source": [
        "1. Tambahkan program dibawa ini dengan\n",
        "  - Try\n",
        "  - Except tambahkan print terjadi error"
      ],
      "metadata": {
        "id": "w72CFI53qvvB"
      }
    },
    {
      "cell_type": "code",
      "source": [
        "# tambahkan Try dan Except pada kode di bawah ini\n",
        "absen = int(input(\"Masukan Jumlah Absensi Mahasiswa :\"))\n",
        "...:\n",
        "    if absen < 3 :\n",
        "        nilai = input(\"Masukan Nilai Mahasiswa :\")\n",
        "\n",
        "        if nilai == \"A\":\n",
        "            print(\"Nilai A\")\n",
        "        elif nilai == \"B\":\n",
        "            print(\"Nilai B\")\n",
        "        elif NILAI == \"C\":\n",
        "            print(\"Nilai C\")\n",
        "        else:\n",
        "            print('Nilai D')\n",
        "    else:\n",
        "        print(\"Mahasiswa dikeluarkan dari mata kuliah\")\n",
        "...:\n",
        "    print(...)"
      ],
      "metadata": {
        "id": "vAWySwUIq0tR"
      },
      "execution_count": null,
      "outputs": []
    },
    {
      "cell_type": "markdown",
      "source": [
        "2. Kemudian tambahkan beberapa except pada program yang telah dibuat yaitu:\n",
        "  - ValueError tambahkan print Nilai salah\n",
        "  - NameError tambahkan print terjadi kesalahan penggunaan variabel\n",
        "\n",
        "  kemudian tambahkan finally dengan print program berakhir"
      ],
      "metadata": {
        "id": "QMSOm6dwq3zH"
      }
    },
    {
      "cell_type": "code",
      "source": [
        "# Isi titik - titik di bawah ini\n",
        "absen = int(input(\"Masukan Jumlah Absensi Mahasiswa :\"))\n",
        "...:\n",
        "    if absen < 3 :\n",
        "        nilai = input(\"Masukan Nilai Mahasiswa :\")\n",
        "\n",
        "        if nilai == \"A\":\n",
        "            print(\"Nilai A\")\n",
        "        elif nilai == \"B\":\n",
        "            print(\"Nilai B\")\n",
        "        elif NILAI == \"C\":\n",
        "            print(\"Nilai C\")\n",
        "        else:\n",
        "            print('Nilai D')\n",
        "    else:\n",
        "        print(\"Mahasiswa dikeluarkan dari mata kuliah\")\n",
        "..."
      ],
      "metadata": {
        "id": "MCSGw9taq5B2"
      },
      "execution_count": null,
      "outputs": []
    },
    {
      "cell_type": "markdown",
      "source": [
        "# Naming Style\n",
        "Tabel di bawah ini menunjukan beberapa gaya penamaan (naming style) yang umum digunakan dan kapan saat penggunaan yang tepat:\n",
        "\n",
        "|Type | Naming Convention | Contoh|\n",
        "-------------|----------|--------|\n",
        "|Function            |   Menggunakan huruf kecil tiap kata. pisahkan antar kata menggunakan underscore      |  function, my_function|function, my_function|\n",
        "|Variable            | Menggunakan satu kata atau lebih  dengan huruf kecil. pisahkan antar kata menggunakan underscore |x, var, my_variable|\n",
        "|Class            | Dimulai awal kata dengan huruf besar. jangan memisahkan antar kata dengan underscore. style ini disebut camel base        |Model, MyClass|\n",
        "|Method            | Key tidak ditentukan pada data dictionary  |class_method, method|\n",
        "|Constant            | Menggunakan huruf besar pada satu kata atau lebih |pisahkan kata dengan underscore|CONSTANT, MY_CONSTANT, MY_LONG_CONSTANT|\n",
        "|Module            | Menggunakan huruf kecil dalam penamaannya. pisahkan kata dengan underscore         |module.py, my_module.py|\n",
        "|Package            |Menggunakan huruf kecil dalam penamaannya. jangan pisahkan kata dengan underscore |package, mypackage|"
      ],
      "metadata": {
        "id": "WCmZ9HGJrOoh"
      }
    }
  ]
}